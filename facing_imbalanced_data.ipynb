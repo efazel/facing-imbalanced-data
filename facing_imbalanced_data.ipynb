{
  "nbformat": 4,
  "nbformat_minor": 0,
  "metadata": {
    "colab": {
      "name": "facing-imbalanced-data.ipynb",
      "provenance": [],
      "toc_visible": true,
      "authorship_tag": "ABX9TyMucL0mIf95ltf10kTly9RH",
      "include_colab_link": true
    },
    "kernelspec": {
      "name": "python3",
      "display_name": "Python 3"
    }
  },
  "cells": [
    {
      "cell_type": "markdown",
      "metadata": {
        "id": "view-in-github",
        "colab_type": "text"
      },
      "source": [
        "<a href=\"https://colab.research.google.com/github/efazel/facing-imbalanced-data/blob/master/facing_imbalanced_data.ipynb\" target=\"_parent\"><img src=\"https://colab.research.google.com/assets/colab-badge.svg\" alt=\"Open In Colab\"/></a>"
      ]
    },
    {
      "cell_type": "markdown",
      "metadata": {
        "id": "fvdx-Dy_6i_9",
        "colab_type": "text"
      },
      "source": [
        "# Facing Imbalanced Binary Data \n",
        "by Ehsan Fazel"
      ]
    },
    {
      "cell_type": "markdown",
      "metadata": {
        "id": "uNXW2KWm637y",
        "colab_type": "text"
      },
      "source": [
        "## The Classification Model\n",
        "\n",
        "Consider a simple linear regression model:\n",
        "\n",
        "$$y^{(i)} = \\alpha + \\beta x^{(i)} + \\epsilon^{(i)} \\tag{1}$$\n",
        "\n",
        "where $\\alpha$ and $\\beta$ are the coefficients of the model. You can also think of $\\alpha$ as bias and $\\beta$ as the vector of weights. Estimating the above model by gradient descent would yield predicted values, $\\hat{y}^{(i)}$, that belong to the set of real numbers. But what if our input data, ${y}^{(i)}$ is binary and we are interested in obtaining 0/1 predicted values? In such circumstances, one can transfer the model by a sigmoid (or logistic) function.\n",
        "\n",
        "$$ A(\\alpha + \\beta x^{(i)}) = \\frac{1}{1+e^{-\\alpha -\\beta x^{(i)}}} \\tag{2}$$\n",
        "\n",
        "where $A(.)$ is the sigmoid activation function. In a single layer shallow neural network this activation is equal to the predicted values $\\hat{y}^{(i)}$. To see how the sigmoid actiavtion function transforms the data, let us define the following:"
      ]
    },
    {
      "cell_type": "code",
      "metadata": {
        "id": "Y_es8Mu8WDAo",
        "colab_type": "code",
        "colab": {}
      },
      "source": [
        "# Import Numpy and Matplotlib:\n",
        "import numpy as np\n",
        "import matplotlib.pyplot as plt"
      ],
      "execution_count": 1,
      "outputs": []
    },
    {
      "cell_type": "code",
      "metadata": {
        "id": "ITNDKF2x7rNQ",
        "colab_type": "code",
        "colab": {}
      },
      "source": [
        "# Sigmoid activation function: \n",
        "def sigmoid(a):\n",
        "    \"\"\"\n",
        "    Inputs:\n",
        "    a: a scalar or an array of an arbitrary size\n",
        "\n",
        "    Outputs:\n",
        "    s: sigmoid(a)\n",
        "    \"\"\"\n",
        "    s = 1/(1+np.exp(-a))\n",
        "    return s"
      ],
      "execution_count": 2,
      "outputs": []
    },
    {
      "cell_type": "markdown",
      "metadata": {
        "id": "_OpPT9jdFzmM",
        "colab_type": "text"
      },
      "source": [
        "To plot the sigmoid function for an example, we create an array named *a* that covers the interval between 10 and -10 with steps of 0.1. "
      ]
    },
    {
      "cell_type": "code",
      "metadata": {
        "id": "TDIWtVj7FpMX",
        "colab_type": "code",
        "colab": {
          "base_uri": "https://localhost:8080/",
          "height": 265
        },
        "outputId": "791f14ec-358c-4a83-bb53-34de2d40fc4f"
      },
      "source": [
        "# declare a as a numpy array from -10 to 10:\n",
        "a = np.arange(-10., 10., 0.1)\n",
        "s = sigmoid(a)\n",
        "plt.plot(a,s);"
      ],
      "execution_count": 3,
      "outputs": [
        {
          "output_type": "display_data",
          "data": {
            "image/png": "[encoded data removed]",
            "text/plain": [
              "<Figure size 432x288 with 1 Axes>"
            ]
          },
          "metadata": {
            "tags": [],
            "needs_background": "light"
          }
        }
      ]
    },
    {
      "cell_type": "markdown",
      "metadata": {
        "id": "ygObzHVULGMP",
        "colab_type": "text"
      },
      "source": [
        "The graph clearly shows the importance of the range of y in interpreting the results of the classification problem.\n",
        "By imposing the sigmoid transformation, we will have the following loss, cost and log likelihood functions:\n",
        "\n",
        "$$ \\mathcal{l}(\\hat{y}^{(i)},y^{(i)}) = -y^{(i)}\\log(\\hat{y}^{(i)})-(1-y^{(i)})log(1- \\hat{y}^{(i)}) \\tag{3}$$\n",
        "\n",
        "$$ \\mathcal{J}(\\hat{y}^{(i)},y^{(i)}) = \\frac{1}{n} \\sum_{i=1}^n \\mathcal{l}(\\hat{y}^{(i)},y^{(i)}) \\tag{4}$$\n",
        "\n",
        "$$\\mathcal{L}(\\hat{y}^{(i)},y^{(i)}) = \\sum_{i=1}^n y^{(i)}\\log(\\hat{y}^{(i)})+(1-y^{(i)})log(1- \\hat{y}^{(i)}) \\tag{5}$$\n",
        "\n",
        "If we initialize the parameters and run the gradient descent routine for a set of iterations, the optimal $\\alpha$ and $\\beta$ will be obtained through forward and backward propagations. This will enable us to predict the values. "
      ]
    },
    {
      "cell_type": "markdown",
      "metadata": {
        "id": "voTkAxOBTJR9",
        "colab_type": "text"
      },
      "source": [
        "## COVID-19 Patient Pre-condition Dataset"
      ]
    },
    {
      "cell_type": "markdown",
      "metadata": {
        "id": "pV66kadRCb67",
        "colab_type": "text"
      },
      "source": [
        "Before introducing the data, we should talk about the concept of imbalanced data. Here, we focus on the binary variable $y^{(i)}$ which takes values of 1 and 0. If the frequency of observing either 1 or 0 is substantially different from the other, we can say that we have an imbalanced data. We will see an example later on, but generally, any ratio that is less balanced than 40/60 could be a candidate (e.g. 40% 1 vs. 60% 0). \n",
        "\n",
        "It is very common to come across imbalanced data in cases where the occurrence of the binary variable is quite rare. Fraudulent transactions and cancer diagnosis are among these cases. The data-set that we will be using is the data for COVID-19 tested individuals from Mexico, available in Kaggle. The data consists of different features (mostly binary variables) that could be used in a model to investigate the deaths associated with COVID-19.\n",
        "\n",
        "To start the empirical analysis, you should first download the data from Kaggle and upload it below."
      ]
    },
    {
      "cell_type": "code",
      "metadata": {
        "id": "Hqcnc4MZAd2o",
        "colab_type": "code",
        "colab": {}
      },
      "source": [
        "# Upload the json file:\n",
        "from google.colab import files\n",
        "files.upload()"
      ],
      "execution_count": null,
      "outputs": []
    },
    {
      "cell_type": "markdown",
      "metadata": {
        "id": "paLx3JKhqpoy",
        "colab_type": "text"
      },
      "source": [
        "You can use os to directly download the dataset. Make sure to put the username and the key from the json file."
      ]
    },
    {
      "cell_type": "code",
      "metadata": {
        "id": "IUqp6YB9ArKr",
        "colab_type": "code",
        "colab": {
          "base_uri": "https://localhost:8080/",
          "height": 68
        },
        "outputId": "9e0be5c1-8f88-476e-f763-6a285eb8ad45"
      },
      "source": [
        "# upload the data from Kaggle. The name of the dataset is: \"covid19-patient-precondition-dataset\"\n",
        "import os\n",
        "os.environ['KAGGLE_USERNAME'] = \"XXXX\" # username from the json file\n",
        "os.environ['KAGGLE_KEY'] = \"XXXXXXXXXXXXXXXXXXXXX\" # key from the json file\n",
        "!kaggle datasets download -d tanmoyx/covid19-patient-precondition-dataset # api copied from kaggle"
      ],
      "execution_count": 5,
      "outputs": [
        {
          "output_type": "stream",
          "text": [
            "Downloading covid19-patient-precondition-dataset.zip to /content\n",
            " 66% 5.00M/7.56M [00:00<00:00, 16.4MB/s]\n",
            "100% 7.56M/7.56M [00:00<00:00, 21.6MB/s]\n"
          ],
          "name": "stdout"
        }
      ]
    },
    {
      "cell_type": "markdown",
      "metadata": {
        "id": "c7pYV-tKq20C",
        "colab_type": "text"
      },
      "source": [
        "To unzip the data, import ZipFile from zipfile."
      ]
    },
    {
      "cell_type": "code",
      "metadata": {
        "id": "092QqFih2o02",
        "colab_type": "code",
        "colab": {
          "base_uri": "https://localhost:8080/",
          "height": 34
        },
        "outputId": "692f9347-2cf1-4f95-c372-8b822a1a5e3b"
      },
      "source": [
        "# unzip the data:\n",
        "from zipfile import ZipFile\n",
        "file_name = \"covid19-patient-precondition-dataset.zip\"\n",
        "\n",
        "with ZipFile(file_name, 'r') as zip:\n",
        "  zip.extractall()\n",
        "  print('Done')"
      ],
      "execution_count": 6,
      "outputs": [
        {
          "output_type": "stream",
          "text": [
            "Done\n"
          ],
          "name": "stdout"
        }
      ]
    },
    {
      "cell_type": "markdown",
      "metadata": {
        "id": "w2dphLsNq-Il",
        "colab_type": "text"
      },
      "source": [
        "Now the csv file is located in the directory and we can start importing and analyzing it. To create a data frame and manipulate the matrices, we can use Pandas. So let's import them and read the data."
      ]
    },
    {
      "cell_type": "code",
      "metadata": {
        "id": "9IDkXZFeWKzG",
        "colab_type": "code",
        "colab": {}
      },
      "source": [
        "# Import Pandas:\n",
        "import pandas as pd"
      ],
      "execution_count": 7,
      "outputs": []
    },
    {
      "cell_type": "code",
      "metadata": {
        "id": "zeIBxIEnB8is",
        "colab_type": "code",
        "colab": {
          "base_uri": "https://localhost:8080/",
          "height": 153
        },
        "outputId": "a177c717-df58-4d4c-edfd-33bc2e2c4a35"
      },
      "source": [
        "# read the data\n",
        "df = pd.read_csv(\"covid.csv\").copy()\n",
        "\n",
        "# take a quick look at the head\n",
        "print(df.head())"
      ],
      "execution_count": 8,
      "outputs": [
        {
          "output_type": "stream",
          "text": [
            "       id  sex  patient_type  ... contact_other_covid covid_res icu\n",
            "0  16169f    2             1  ...                   2         1  97\n",
            "1  1009bf    2             1  ...                  99         1  97\n",
            "2  167386    1             2  ...                  99         1   2\n",
            "3  0b5948    2             2  ...                  99         1   2\n",
            "4  0d01b5    1             2  ...                  99         1   2\n",
            "\n",
            "[5 rows x 23 columns]\n"
          ],
          "name": "stdout"
        }
      ]
    },
    {
      "cell_type": "markdown",
      "metadata": {
        "id": "Z1y66KKpiRhB",
        "colab_type": "text"
      },
      "source": [
        "To briefly examine the data frame, we can check the list of features, missing values, and data types."
      ]
    },
    {
      "cell_type": "code",
      "metadata": {
        "id": "mzIXC8zAEZah",
        "colab_type": "code",
        "colab": {
          "base_uri": "https://localhost:8080/",
          "height": 527
        },
        "outputId": "3b56ab42-4b0d-4d0b-aaf5-9d9ff930af25"
      },
      "source": [
        "# check the data types and missing values:\n",
        "df.info()"
      ],
      "execution_count": 9,
      "outputs": [
        {
          "output_type": "stream",
          "text": [
            "<class 'pandas.core.frame.DataFrame'>\n",
            "RangeIndex: 566602 entries, 0 to 566601\n",
            "Data columns (total 23 columns):\n",
            " #   Column               Non-Null Count   Dtype \n",
            "---  ------               --------------   ----- \n",
            " 0   id                   566602 non-null  object\n",
            " 1   sex                  566602 non-null  int64 \n",
            " 2   patient_type         566602 non-null  int64 \n",
            " 3   entry_date           566602 non-null  object\n",
            " 4   date_symptoms        566602 non-null  object\n",
            " 5   date_died            566602 non-null  object\n",
            " 6   intubed              566602 non-null  int64 \n",
            " 7   pneumonia            566602 non-null  int64 \n",
            " 8   age                  566602 non-null  int64 \n",
            " 9   pregnancy            566602 non-null  int64 \n",
            " 10  diabetes             566602 non-null  int64 \n",
            " 11  copd                 566602 non-null  int64 \n",
            " 12  asthma               566602 non-null  int64 \n",
            " 13  inmsupr              566602 non-null  int64 \n",
            " 14  hypertension         566602 non-null  int64 \n",
            " 15  other_disease        566602 non-null  int64 \n",
            " 16  cardiovascular       566602 non-null  int64 \n",
            " 17  obesity              566602 non-null  int64 \n",
            " 18  renal_chronic        566602 non-null  int64 \n",
            " 19  tobacco              566602 non-null  int64 \n",
            " 20  contact_other_covid  566602 non-null  int64 \n",
            " 21  covid_res            566602 non-null  int64 \n",
            " 22  icu                  566602 non-null  int64 \n",
            "dtypes: int64(19), object(4)\n",
            "memory usage: 99.4+ MB\n"
          ],
          "name": "stdout"
        }
      ]
    },
    {
      "cell_type": "markdown",
      "metadata": {
        "id": "nEF2nTQwDAiA",
        "colab_type": "text"
      },
      "source": [
        "We would like to build a model that can classify the deaths due to the virus. By a simple feature extraction, we only consider one candidate. Deaths can be recovered from the variable *date_died* which presents the date when the individual has passed away. We are going to place our focus on individuals who tested positive and passed away. So there would be an assumption that they died because of the virus. By considering the deceased, we can then investigate the role of variables such as asthma on the probability of the individual loses life given tested positive. To investigate this statement, first, we need to create a dummy variable based on date_died."
      ]
    },
    {
      "cell_type": "code",
      "metadata": {
        "id": "t6NUjiL4kzPL",
        "colab_type": "code",
        "colab": {
          "base_uri": "https://localhost:8080/",
          "height": 442
        },
        "outputId": "89aa75a1-2d8b-4062-bda7-3e76abd52881"
      },
      "source": [
        "# examine the unique values of date_died\n",
        "print(df[\"date_died\"].unique())"
      ],
      "execution_count": 10,
      "outputs": [
        {
          "output_type": "stream",
          "text": [
            "['9999-99-99' '22-04-2020' '29-04-2020' '21-05-2020' '28-04-2020'\n",
            " '26-04-2020' '07-04-2020' '13-04-2020' '20-04-2020' '25-04-2020'\n",
            " '19-06-2020' '06-04-2020' '15-05-2020' '13-05-2020' '09-06-2020'\n",
            " '08-05-2020' '24-04-2020' '03-05-2020' '15-04-2020' '16-04-2020'\n",
            " '30-03-2020' '30-04-2020' '14-06-2020' '19-04-2020' '14-05-2020'\n",
            " '07-05-2020' '28-03-2020' '16-05-2020' '09-04-2020' '18-05-2020'\n",
            " '05-04-2020' '21-04-2020' '01-06-2020' '15-06-2020' '18-04-2020'\n",
            " '05-06-2020' '20-05-2020' '09-05-2020' '11-05-2020' '04-05-2020'\n",
            " '10-05-2020' '05-05-2020' '23-04-2020' '22-05-2020' '27-04-2020'\n",
            " '02-05-2020' '12-05-2020' '21-06-2020' '17-05-2020' '26-05-2020'\n",
            " '04-06-2020' '11-06-2020' '06-05-2020' '19-05-2020' '25-05-2020'\n",
            " '17-04-2020' '01-04-2020' '29-03-2020' '14-04-2020' '11-04-2020'\n",
            " '01-05-2020' '16-06-2020' '26-06-2020' '27-05-2020' '23-05-2020'\n",
            " '22-03-2020' '03-06-2020' '03-04-2020' '24-05-2020' '08-04-2020'\n",
            " '02-04-2020' '30-05-2020' '31-05-2020' '12-04-2020' '23-06-2020'\n",
            " '06-06-2020' '17-06-2020' '28-05-2020' '10-04-2020' '12-06-2020'\n",
            " '13-06-2020' '22-06-2020' '29-05-2020' '02-06-2020' '20-06-2020'\n",
            " '10-06-2020' '07-06-2020' '18-06-2020' '25-06-2020' '08-06-2020'\n",
            " '24-06-2020' '27-06-2020' '28-06-2020' '04-04-2020' '26-03-2020'\n",
            " '31-03-2020' '23-03-2020' '29-06-2020' '27-03-2020' '20-03-2020'\n",
            " '25-03-2020' '18-03-2020' '24-03-2020' '29-01-2020' '04-03-2020'\n",
            " '17-03-2020' '14-01-2020' '23-02-2020' '30-01-2020' '08-02-2020'\n",
            " '16-03-2020' '10-02-2020' '09-03-2020' '11-02-2020' '11-03-2020'\n",
            " '22-02-2020' '26-02-2020' '09-02-2020' '15-01-2020' '25-02-2020'\n",
            " '21-02-2020' '13-02-2020' '13-01-2020' '12-03-2020']\n"
          ],
          "name": "stdout"
        }
      ]
    },
    {
      "cell_type": "markdown",
      "metadata": {
        "id": "gpMIVqSd1pGj",
        "colab_type": "text"
      },
      "source": [
        "Before moving on with preprocessing *date_died*, we examine another variable, *covid_res*. This variable reports the cornavirus test results."
      ]
    },
    {
      "cell_type": "code",
      "metadata": {
        "id": "Lf65q1ir2dzT",
        "colab_type": "code",
        "colab": {
          "base_uri": "https://localhost:8080/",
          "height": 34
        },
        "outputId": "dc5f77fb-d2e8-4e42-fc28-50e35e616809"
      },
      "source": [
        "df['covid_res'].unique()"
      ],
      "execution_count": 11,
      "outputs": [
        {
          "output_type": "execute_result",
          "data": {
            "text/plain": [
              "array([1, 2, 3])"
            ]
          },
          "metadata": {
            "tags": []
          },
          "execution_count": 11
        }
      ]
    },
    {
      "cell_type": "markdown",
      "metadata": {
        "id": "iNN7O3C02lDF",
        "colab_type": "text"
      },
      "source": [
        "The following code will remove the pending test results from the set and transform *covid_res* into a 0/1 variable."
      ]
    },
    {
      "cell_type": "code",
      "metadata": {
        "id": "uJYRQQR7CTQi",
        "colab_type": "code",
        "colab": {
          "base_uri": "https://localhost:8080/",
          "height": 306
        },
        "outputId": "cbc203ef-e901-49e5-c62e-a0654a0f432c"
      },
      "source": [
        "# remove pending test results:\n",
        "df = df[df[\"covid_res\"] != 3]\n",
        "\n",
        "# convert negatives to zero:\n",
        "df.loc[df['covid_res'] == 2,'covid_res'] = 0\n",
        "print(df.head())\n",
        "print(df.tail())\n",
        "\n",
        "# check the binary variable:\n",
        "print(\"The test result is shown by variable covid_res whcih is an array of \" + str(df['covid_res'].unique()))"
      ],
      "execution_count": 12,
      "outputs": [
        {
          "output_type": "stream",
          "text": [
            "       id  sex  patient_type  ... contact_other_covid covid_res icu\n",
            "0  16169f    2             1  ...                   2         1  97\n",
            "1  1009bf    2             1  ...                  99         1  97\n",
            "2  167386    1             2  ...                  99         1   2\n",
            "3  0b5948    2             2  ...                  99         1   2\n",
            "4  0d01b5    1             2  ...                  99         1   2\n",
            "\n",
            "[5 rows x 23 columns]\n",
            "            id  sex  patient_type  ... contact_other_covid covid_res icu\n",
            "499687  1342ee    2             1  ...                   2         0  97\n",
            "499688  0186c8    2             2  ...                   2         0   2\n",
            "499689  130373    1             1  ...                   2         0  97\n",
            "499690  10b265    1             1  ...                   1         0  97\n",
            "499691  197252    1             1  ...                  99         0  97\n",
            "\n",
            "[5 rows x 23 columns]\n",
            "The test result is shown by variable covid_res whcih is an array of [1 0]\n"
          ],
          "name": "stdout"
        }
      ]
    },
    {
      "cell_type": "markdown",
      "metadata": {
        "id": "t3OEN0F4ioXY",
        "colab_type": "text"
      },
      "source": [
        "We consider individuals who tested positive and passed away to isolate deaths and study further causes. Thus, the assumption that the deaths are caused by the virus is imposed. By concentrating on the deceased population, we can then investigate the role of variables such as *asthma* on the probability of the individual loses life given tested positive. To check this statement, first, we need to create another dummy variable based on *date_died*. And do the same for some selected features that we would like to study.\n",
        "\n",
        "For *date_died* if we observe the string \"9999-99-99\", it is an indication of patient that the patient is still alive. Thus by removing rows with such values, we end up with the deceased population. Since it might be the case that among this group some patients had tested negative, we should only consider positive cases. "
      ]
    },
    {
      "cell_type": "code",
      "metadata": {
        "id": "k2a7UWB0lEk9",
        "colab_type": "code",
        "colab": {}
      },
      "source": [
        "# convert date_died with values \"9999-99-99\" to zero and set rest to one:\n",
        "df[\"deceased\"] = np.where(df[\"date_died\"].isin([\"9999-99-99\"]), 0, 1)\n",
        "\n",
        "# keep only tested postive deceased\n",
        "df = df[df[\"covid_res\"] != 0]\n",
        "\n",
        "# convert variables in asthma. 2,98 -> 0. 1 -> 1. \n",
        "df[\"asthma_binary\"] = np.where(df[\"asthma\"].isin([2, 98]), 0, 1)\n",
        "\n",
        "# convert variables in cardiovascular. 2,98 -> 0. 1 -> 1. \n",
        "df[\"cardiovascular_binary\"] = np.where(df[\"cardiovascular\"].isin([2, 98]), 0, 1)\n",
        "\n",
        "# convert variables in tobacco. 2,98 -> 0. 1 -> 1. \n",
        "df[\"tobacco_binary\"] = np.where(df[\"tobacco\"].isin([2, 98]), 0, 1)"
      ],
      "execution_count": 13,
      "outputs": []
    },
    {
      "cell_type": "markdown",
      "metadata": {
        "id": "SVk5pQxM4by1",
        "colab_type": "text"
      },
      "source": [
        "To begin with, we only consider *asthma*, *cardiovascular*, and *tobacco*. Let's put them together in a new data frame called *df_reduced*. "
      ]
    },
    {
      "cell_type": "code",
      "metadata": {
        "id": "2o_T6QYZeQVx",
        "colab_type": "code",
        "colab": {
          "base_uri": "https://localhost:8080/",
          "height": 255
        },
        "outputId": "9b01ecce-43cb-4548-ba07-bea3bd5ef851"
      },
      "source": [
        "df_reduced = pd.concat([df['asthma_binary'], df['cardiovascular_binary'], df['tobacco_binary']], axis = 1)\n",
        "deceased = df['deceased']\n",
        "print(df_reduced)"
      ],
      "execution_count": 14,
      "outputs": [
        {
          "output_type": "stream",
          "text": [
            "        asthma_binary  cardiovascular_binary  tobacco_binary\n",
            "0                   0                      0               0\n",
            "1                   0                      0               0\n",
            "2                   0                      0               0\n",
            "3                   0                      0               0\n",
            "4                   0                      1               0\n",
            "...               ...                    ...             ...\n",
            "220652              0                      0               0\n",
            "220653              0                      0               0\n",
            "220654              0                      0               0\n",
            "220655              1                      0               0\n",
            "220656              0                      0               0\n",
            "\n",
            "[220657 rows x 3 columns]\n"
          ],
          "name": "stdout"
        }
      ]
    },
    {
      "cell_type": "markdown",
      "metadata": {
        "id": "Yo4PZEgJ5SAQ",
        "colab_type": "text"
      },
      "source": [
        "Now it's time to split the data into train and test sets. "
      ]
    },
    {
      "cell_type": "code",
      "metadata": {
        "id": "bDqg487CXA_k",
        "colab_type": "code",
        "colab": {}
      },
      "source": [
        "# Import Sklearn to split the data\n",
        "from sklearn.model_selection import train_test_split"
      ],
      "execution_count": 15,
      "outputs": []
    },
    {
      "cell_type": "code",
      "metadata": {
        "id": "KOgPYmuJW0k5",
        "colab_type": "code",
        "colab": {}
      },
      "source": [
        "# split the data into train and test\n",
        "x_train, x_test, y_train, y_test = train_test_split(df_reduced, df['deceased'], test_size=0.2, random_state=42)\n",
        "df_train = pd.concat([x_train, y_train], axis = 1)\n",
        "df_test = pd.concat([x_test, y_test], axis = 1)"
      ],
      "execution_count": 16,
      "outputs": []
    },
    {
      "cell_type": "markdown",
      "metadata": {
        "id": "ktz7FV8INaha",
        "colab_type": "text"
      },
      "source": [
        "We are interested in examining the effect of medical conditions such as asthma on the probability of the individuals losing their lives. To do so we can start with investigating the Phi coefficient. The Phi coefficient measures the correlation between two binary variables. This might seem unusual after splitting the data, but for now, we only pick the variable with the highest coefficient and model that single variable in a classification model."
      ]
    },
    {
      "cell_type": "code",
      "metadata": {
        "id": "KHO03bioXLem",
        "colab_type": "code",
        "colab": {}
      },
      "source": [
        "# Import Mattews Correlation from Sklearn Metrics:\n",
        "from sklearn.metrics import matthews_corrcoef"
      ],
      "execution_count": 20,
      "outputs": []
    },
    {
      "cell_type": "code",
      "metadata": {
        "id": "KlcpZzMON_mg",
        "colab_type": "code",
        "colab": {
          "base_uri": "https://localhost:8080/",
          "height": 68
        },
        "outputId": "28318466-2cb8-40d5-eed1-ee70e7e85586"
      },
      "source": [
        "mcc_deceased_asthma_banary = matthews_corrcoef(df_train['deceased'], df_train['asthma_binary'], sample_weight=None)\n",
        "mcc_deceased_cardiovascular_binary = matthews_corrcoef(df_train['deceased'], df_train['cardiovascular_binary'], sample_weight=None)\n",
        "mcc_deceased_tobacco_binary = matthews_corrcoef(df_train['deceased'], df_train['tobacco_binary'], sample_weight=None)\n",
        "\n",
        "print(\"The correlation between deceased and asthma is: \" + str(mcc_deceased_asthma_banary))\n",
        "print(\"The correlation between deceased and cardiovascular is: \" + str(mcc_deceased_cardiovascular_binary))\n",
        "print(\"The correlation between deceased and tobacco is: \" + str(mcc_deceased_tobacco_binary))"
      ],
      "execution_count": 21,
      "outputs": [
        {
          "output_type": "stream",
          "text": [
            "The correlation between deceased and asthma is: -0.015917242686969695\n",
            "The correlation between deceased and cardiovascular is: 0.07398438650923728\n",
            "The correlation between deceased and tobacco is: 0.015918791462454937\n"
          ],
          "name": "stdout"
        }
      ]
    },
    {
      "cell_type": "markdown",
      "metadata": {
        "id": "_f3XUgjW5-CW",
        "colab_type": "text"
      },
      "source": [
        "It appears that *cardiovascular* has the highest coefficient. Therefore, we will run a logit model with an explanatory variable which the heart disease."
      ]
    },
    {
      "cell_type": "markdown",
      "metadata": {
        "id": "O3i7js38zuH5",
        "colab_type": "text"
      },
      "source": [
        "## The Logistic Regression Classifier \n"
      ]
    },
    {
      "cell_type": "markdown",
      "metadata": {
        "id": "acKoV9Er6dl1",
        "colab_type": "text"
      },
      "source": [
        "Using the sklearn *LogisticRegression* yields the following:"
      ]
    },
    {
      "cell_type": "code",
      "metadata": {
        "id": "NjXRIE3HXXD0",
        "colab_type": "code",
        "colab": {}
      },
      "source": [
        "# Import logistic regression from sklearn:\n",
        "from sklearn.linear_model import LogisticRegression"
      ],
      "execution_count": 22,
      "outputs": []
    },
    {
      "cell_type": "code",
      "metadata": {
        "id": "maYrQcepdS3T",
        "colab_type": "code",
        "colab": {
          "base_uri": "https://localhost:8080/",
          "height": 156
        },
        "outputId": "bebab4b2-dde9-49ec-f368-c6fa692a3959"
      },
      "source": [
        "# run the logistic regression. Regress deceased on cardiovascular_binary:\n",
        "logit_model1 = LogisticRegression(random_state = 42)\n",
        "logit_model1.fit(df_train['cardiovascular_binary'].values.reshape(-1, 1), df_train['deceased'].values.reshape(-1, 1))"
      ],
      "execution_count": 23,
      "outputs": [
        {
          "output_type": "stream",
          "text": [
            "/usr/local/lib/python3.6/dist-packages/sklearn/utils/validation.py:760: DataConversionWarning: A column-vector y was passed when a 1d array was expected. Please change the shape of y to (n_samples, ), for example using ravel().\n",
            "  y = column_or_1d(y, warn=True)\n"
          ],
          "name": "stderr"
        },
        {
          "output_type": "execute_result",
          "data": {
            "text/plain": [
              "LogisticRegression(C=1.0, class_weight=None, dual=False, fit_intercept=True,\n",
              "                   intercept_scaling=1, l1_ratio=None, max_iter=100,\n",
              "                   multi_class='auto', n_jobs=None, penalty='l2',\n",
              "                   random_state=42, solver='lbfgs', tol=0.0001, verbose=0,\n",
              "                   warm_start=False)"
            ]
          },
          "metadata": {
            "tags": []
          },
          "execution_count": 23
        }
      ]
    },
    {
      "cell_type": "markdown",
      "metadata": {
        "id": "XHFAUTB56uI5",
        "colab_type": "text"
      },
      "source": [
        "To examine the performance of the classifier there are a few metrics available in sklearn. We are going to consider the confusion matrix, accuracy score, precision score, recall, and F1 score. "
      ]
    },
    {
      "cell_type": "code",
      "metadata": {
        "id": "sID7qXBxKD9o",
        "colab_type": "code",
        "colab": {}
      },
      "source": [
        "# Import metrics to analyse the performance of the classification:\n",
        "from sklearn import metrics"
      ],
      "execution_count": 24,
      "outputs": []
    },
    {
      "cell_type": "code",
      "metadata": {
        "id": "B3ookJgDurFS",
        "colab_type": "code",
        "colab": {
          "base_uri": "https://localhost:8080/",
          "height": 173
        },
        "outputId": "99d6a1ea-eb1a-40fa-dab8-a0390450f7ff"
      },
      "source": [
        "# predict the test set:\n",
        "y_pred = logit_model1.predict(x_test['cardiovascular_binary'].values.reshape(-1, 1))\n",
        "\n",
        "# Obtain the The Confusion Matrix and Accuracy :\n",
        "y_pred = np.round(y_pred)\n",
        "CM = metrics.confusion_matrix(y_test, y_pred)\n",
        "print(CM)\n",
        "AS = metrics.accuracy_score(y_test, y_pred)\n",
        "print('The accuracy score of the classification is: ' + str(AS))\n",
        "PS = metrics.precision_score(y_test, y_pred, zero_division = 'warn')\n",
        "print('The precision score of the classification is: ' + str(PS))\n",
        "RC = metrics.recall_score(y_test, y_pred)\n",
        "print('The recall score of the classification is: ' + str(RC))\n",
        "F1 = metrics.f1_score(y_test, y_pred, average = None)\n",
        "print('The F1 score of the classification is: ' + str(F1))"
      ],
      "execution_count": 25,
      "outputs": [
        {
          "output_type": "stream",
          "text": [
            "[[38736     0]\n",
            " [ 5396     0]]\n",
            "The accuracy score of the classification is: 0.8777304450285507\n",
            "The precision score of the classification is: 0.0\n",
            "The recall score of the classification is: 0.0\n",
            "The F1 score of the classification is: [0.93488439 0.        ]\n"
          ],
          "name": "stdout"
        },
        {
          "output_type": "stream",
          "text": [
            "/usr/local/lib/python3.6/dist-packages/sklearn/metrics/_classification.py:1272: UndefinedMetricWarning: Precision is ill-defined and being set to 0.0 due to no predicted samples. Use `zero_division` parameter to control this behavior.\n",
            "  _warn_prf(average, modifier, msg_start, len(result))\n"
          ],
          "name": "stderr"
        }
      ]
    },
    {
      "cell_type": "markdown",
      "metadata": {
        "id": "wgqzwB0m7Olq",
        "colab_type": "text"
      },
      "source": [
        "The first anomaly is present in the confusion matrix. The classifier gives no false negatives and no true negatives. Plus the precision score is not-defined. Remember that negative is deceased. This suggests that the model trains a highly imbalanced data set in favor of not-deceased individuals and the ratio between the two classes is completely out of proportion.The positives are the minority class, thus we get more false positives than false negatives which lowers the precision. \n",
        "\n",
        "We use the Kappa score to compare the rating of two classifiers. Here the first classifier is our prediction obtained by the logistic regression, while the second is the labeled data in the test set. The order of the inputs in Kappa does not matter. Since it treats both as two equal rating mechanisms. Kappa controls the accuracy of the classifier. Comparing Kappa with the confusion matrix suggests a poor classification.  "
      ]
    },
    {
      "cell_type": "code",
      "metadata": {
        "id": "y9VEmLsAXthJ",
        "colab_type": "code",
        "colab": {
          "base_uri": "https://localhost:8080/",
          "height": 34
        },
        "outputId": "7c50868b-6270-4c7f-8613-7bc1a022d019"
      },
      "source": [
        "KS = metrics.cohen_kappa_score(y_test, y_pred)\n",
        "print('The Kappa score of the classification is: ' + str(KS))"
      ],
      "execution_count": 71,
      "outputs": [
        {
          "output_type": "stream",
          "text": [
            "The Kappa score of the classification is: 0.0\n"
          ],
          "name": "stdout"
        }
      ]
    },
    {
      "cell_type": "markdown",
      "metadata": {
        "id": "L8_iVomj0N50",
        "colab_type": "text"
      },
      "source": [
        "## Suspecting Imbalanced Data\n",
        "\n",
        "The data is prone to being imbalanced. So let's explore this concept in the data. Considering the training data, we can plot the frequencies of our binary variable \"deceased\"."
      ]
    },
    {
      "cell_type": "code",
      "metadata": {
        "id": "_eKyWs-O0L37",
        "colab_type": "code",
        "colab": {
          "base_uri": "https://localhost:8080/",
          "height": 295
        },
        "outputId": "25fc7db4-f5da-4898-81e7-c29b684c6dd4"
      },
      "source": [
        "count_y = pd.value_counts(y_train, sort = True)\n",
        "count_y.plot(kind = 'bar', rot = 0)\n",
        "plt.title(\"Distribution for the variable 'deceased'\")\n",
        "plt.xlabel('Binary class')\n",
        "plt.ylabel('Frequency');"
      ],
      "execution_count": 26,
      "outputs": [
        {
          "output_type": "display_data",
          "data": {
            "image/png": "[encoded data removed]",
            "text/plain": [
              "<Figure size 432x288 with 1 Axes>"
            ]
          },
          "metadata": {
            "tags": [],
            "needs_background": "light"
          }
        }
      ]
    },
    {
      "cell_type": "markdown",
      "metadata": {
        "id": "2cy-uGdPKxud",
        "colab_type": "text"
      },
      "source": [
        "The plot demonstrates the ratio between the two classes. To get a better understanding of the ratio between the two, we can obtain calculate it: "
      ]
    },
    {
      "cell_type": "code",
      "metadata": {
        "id": "elt3W8jVLSNP",
        "colab_type": "code",
        "colab": {
          "base_uri": "https://localhost:8080/",
          "height": 34
        },
        "outputId": "b70e997f-0328-413d-fa48-1e327b0cef46"
      },
      "source": [
        "# Calculate the ratio of deceased to not_deceased\n",
        "one_to_zero_ratio = y_train[y_train == 1].shape[0]/y_train[y_train == 0].shape[0]\n",
        "print('The ratio of non_deceased to deceased is: ' + str(zero_to_one_ratio))"
      ],
      "execution_count": 34,
      "outputs": [
        {
          "output_type": "stream",
          "text": [
            "The ratio of non_deceased to deceased is: 0.14034237726098192\n"
          ],
          "name": "stdout"
        }
      ]
    },
    {
      "cell_type": "markdown",
      "metadata": {
        "id": "HHLfmfvS_l1L",
        "colab_type": "text"
      },
      "source": [
        "## Performing Under-sampling"
      ]
    },
    {
      "cell_type": "markdown",
      "metadata": {
        "id": "w0vgpiVdNFXe",
        "colab_type": "text"
      },
      "source": [
        "Under-sampling is a technique that can be used when facing an imbalanced data. It goes over the training the data and create a sample in which the ratio of 1/0 in the target variable is balanced. "
      ]
    },
    {
      "cell_type": "code",
      "metadata": {
        "id": "9qpHFCna9GhT",
        "colab_type": "code",
        "colab": {
          "base_uri": "https://localhost:8080/",
          "height": 105
        },
        "outputId": "643b2985-f1da-4496-889a-9ee4ad660d2e"
      },
      "source": [
        "# Import the library:\n",
        "from imblearn.under_sampling import NearMiss"
      ],
      "execution_count": 36,
      "outputs": [
        {
          "output_type": "stream",
          "text": [
            "/usr/local/lib/python3.6/dist-packages/sklearn/externals/six.py:31: FutureWarning: The module is deprecated in version 0.21 and will be removed in version 0.23 since we've dropped support for Python 2.7. Please rely on the official version of six (https://pypi.org/project/six/).\n",
            "  \"(https://pypi.org/project/six/).\", FutureWarning)\n",
            "/usr/local/lib/python3.6/dist-packages/sklearn/utils/deprecation.py:144: FutureWarning: The sklearn.neighbors.base module is  deprecated in version 0.22 and will be removed in version 0.24. The corresponding classes / functions should instead be imported from sklearn.neighbors. Anything that cannot be imported from sklearn.neighbors is now part of the private API.\n",
            "  warnings.warn(message, FutureWarning)\n"
          ],
          "name": "stderr"
        }
      ]
    },
    {
      "cell_type": "code",
      "metadata": {
        "id": "7DdAOMxA_-Td",
        "colab_type": "code",
        "colab": {
          "base_uri": "https://localhost:8080/",
          "height": 139
        },
        "outputId": "0927e737-5b01-4946-836f-458467407dc2"
      },
      "source": [
        "# Create a sample from the training data and store them in data frames (this might take a few seconds):\n",
        "us = NearMiss(random_state = 42)\n",
        "x_train_resample, y_train_resample = us.fit_sample(x_train, y_train)\n",
        "x_train_resample_df = pd.DataFrame(x_train_resample, columns = ['asthma_binary', 'cardiovascular_binary', 'tobacco_binary'])\n",
        "y_train_resample_df = pd.DataFrame(y_train_resample, columns = ['deceased'])"
      ],
      "execution_count": 37,
      "outputs": [
        {
          "output_type": "stream",
          "text": [
            "/usr/local/lib/python3.6/dist-packages/sklearn/utils/deprecation.py:87: FutureWarning: Function safe_indexing is deprecated; safe_indexing is deprecated in version 0.22 and will be removed in version 0.24.\n",
            "  warnings.warn(msg, category=FutureWarning)\n",
            "/usr/local/lib/python3.6/dist-packages/sklearn/utils/deprecation.py:87: FutureWarning: Function safe_indexing is deprecated; safe_indexing is deprecated in version 0.22 and will be removed in version 0.24.\n",
            "  warnings.warn(msg, category=FutureWarning)\n",
            "/usr/local/lib/python3.6/dist-packages/sklearn/utils/deprecation.py:87: FutureWarning: Function safe_indexing is deprecated; safe_indexing is deprecated in version 0.22 and will be removed in version 0.24.\n",
            "  warnings.warn(msg, category=FutureWarning)\n"
          ],
          "name": "stderr"
        }
      ]
    },
    {
      "cell_type": "markdown",
      "metadata": {
        "id": "qCsHQOv0OD1Y",
        "colab_type": "text"
      },
      "source": [
        "We continue with our usual classification algorithm:"
      ]
    },
    {
      "cell_type": "code",
      "metadata": {
        "id": "6oJUi8YuCnJP",
        "colab_type": "code",
        "colab": {
          "base_uri": "https://localhost:8080/",
          "height": 102
        },
        "outputId": "bc89756a-cf77-4377-8c08-0166f17d59df"
      },
      "source": [
        "# Perform the logistic regression:\n",
        "train_resample = [x_train_resample_df['cardiovascular_binary'], y_train_resample_df['deceased']]\n",
        "logit_model2 = LogisticRegression(random_state = 42)\n",
        "logit_model2.fit(x_train_resample_df['cardiovascular_binary'].values.reshape(-1, 1), y_train_resample_df['deceased'].values.reshape(-1, 1).ravel())"
      ],
      "execution_count": 46,
      "outputs": [
        {
          "output_type": "execute_result",
          "data": {
            "text/plain": [
              "LogisticRegression(C=1.0, class_weight=None, dual=False, fit_intercept=True,\n",
              "                   intercept_scaling=1, l1_ratio=None, max_iter=100,\n",
              "                   multi_class='auto', n_jobs=None, penalty='l2',\n",
              "                   random_state=42, solver='lbfgs', tol=0.0001, verbose=0,\n",
              "                   warm_start=False)"
            ]
          },
          "metadata": {
            "tags": []
          },
          "execution_count": 46
        }
      ]
    },
    {
      "cell_type": "code",
      "metadata": {
        "id": "ZzIpC83zErke",
        "colab_type": "code",
        "colab": {
          "base_uri": "https://localhost:8080/",
          "height": 119
        },
        "outputId": "3cf14718-b779-42fb-c4b4-d4ee8fef3988"
      },
      "source": [
        "# predict the test set:\n",
        "y_pred = logit_model2.predict(x_test['cardiovascular_binary'].values.reshape(-1, 1))\n",
        "\n",
        "# Obtain the The Confusion Matrix and Accuracy :\n",
        "y_pred = np.round(y_pred)\n",
        "CM = metrics.confusion_matrix(y_test, y_pred)\n",
        "print(CM)\n",
        "AS = metrics.accuracy_score(y_test, y_pred)\n",
        "print('The accuracy score of the classification is: ' + str(AS))\n",
        "PS = metrics.precision_score(y_test, y_pred, zero_division = 'warn')\n",
        "print('The precision score of the classification is: ' + str(PS))\n",
        "RC = metrics.recall_score(y_test, y_pred)\n",
        "print('The recall score of the classification is: ' + str(RC))\n",
        "F1 = metrics.f1_score(y_test, y_pred, average = None)\n",
        "print('The F1 score of the classification is: ' + str(F1))"
      ],
      "execution_count": 39,
      "outputs": [
        {
          "output_type": "stream",
          "text": [
            "[[38017   719]\n",
            " [ 5124   272]]\n",
            "The accuracy score of the classification is: 0.867601740233844\n",
            "The precision score of the classification is: 0.27447023208879917\n",
            "The recall score of the classification is: 0.050407709414381024\n",
            "The F1 score of the classification is: [0.92863686 0.08517301]\n"
          ],
          "name": "stdout"
        }
      ]
    },
    {
      "cell_type": "markdown",
      "metadata": {
        "id": "TeWn9IYOOYac",
        "colab_type": "text"
      },
      "source": [
        "As it is shown by the results, by undersampling we can achieve some improvement."
      ]
    },
    {
      "cell_type": "markdown",
      "metadata": {
        "id": "-3_SQXJULjn-",
        "colab_type": "text"
      },
      "source": [
        "## Re-run Logistic with Class-weights"
      ]
    },
    {
      "cell_type": "markdown",
      "metadata": {
        "id": "VKMOlxIkOlaj",
        "colab_type": "text"
      },
      "source": [
        "Another way to address the imbalanced target variable is to put an extra argument in *LogisticRegression* for *class_weigh*. We already calculated the weights so we can directly put them in the function, run the logistic, and obtain similar results like the ones in undersampling. "
      ]
    },
    {
      "cell_type": "code",
      "metadata": {
        "id": "0PKDhNWHVYxw",
        "colab_type": "code",
        "colab": {
          "base_uri": "https://localhost:8080/",
          "height": 119
        },
        "outputId": "315a8dea-8306-42fb-da07-690d1a9b7a32"
      },
      "source": [
        "# run the logistic regression. Regress deceased on cardiovascular_binary, but specify the class weights:\n",
        "logit_model3 = LogisticRegression(random_state = 42, class_weight = {0:0.14})\n",
        "logit_model3.fit(df_train['cardiovascular_binary'].values.reshape(-1, 1), df_train['deceased'].values.reshape(-1, 1).ravel())\n",
        "\n",
        "y_pred = logit_model3.predict(x_test['cardiovascular_binary'].values.reshape(-1, 1))\n",
        "\n",
        "# Obtain the The Confusion Matrix and Accuracy :\n",
        "y_pred = np.round(y_pred)\n",
        "CM = metrics.confusion_matrix(y_test, y_pred)\n",
        "print(CM)\n",
        "AS = metrics.accuracy_score(y_test, y_pred)\n",
        "print('The accuracy score of the classification is: ' + str(AS))\n",
        "PS = metrics.precision_score(y_test, y_pred, zero_division = 'warn')\n",
        "print('The precision score of the classification is: ' + str(PS))\n",
        "RC = metrics.recall_score(y_test, y_pred)\n",
        "print('The recall score of the classification is: ' + str(RC))\n",
        "F1 = metrics.f1_score(y_test, y_pred, average = None)\n",
        "print('The F1 score of the classification is: ' + str(F1))"
      ],
      "execution_count": 47,
      "outputs": [
        {
          "output_type": "stream",
          "text": [
            "[[38017   719]\n",
            " [ 5124   272]]\n",
            "The accuracy score of the classification is: 0.867601740233844\n",
            "The precision score of the classification is: 0.27447023208879917\n",
            "The recall score of the classification is: 0.050407709414381024\n",
            "The F1 score of the classification is: [0.92863686 0.08517301]\n"
          ],
          "name": "stdout"
        }
      ]
    },
    {
      "cell_type": "code",
      "metadata": {
        "id": "bEqJYC-ZSdBO",
        "colab_type": "code",
        "colab": {}
      },
      "source": [
        ""
      ],
      "execution_count": null,
      "outputs": []
    }
  ]
}